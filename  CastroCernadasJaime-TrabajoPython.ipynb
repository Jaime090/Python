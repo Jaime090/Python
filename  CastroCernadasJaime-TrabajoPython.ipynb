{
 "cells": [
  {
   "cell_type": "markdown",
   "metadata": {},
   "source": [
    "# TRABAJO DE PYTHON\n",
    "\n",
    "### Este trabajo cuenta el 30% de la nota. La entrega será el 5 de Noviembre a las 23:59.\n",
    "\n",
    "### Resuelve los siguientes ejercicios en Python sin usar expresiones regulares\n",
    "\n",
    "#### Utiliza tantas celdas de código como necesites\n",
    "\n",
    "##\n",
    "\n",
    "\n",
    "\n",
    "\n",
    "\n",
    "\n",
    "\n"
   ]
  },
  {
   "cell_type": "markdown",
   "metadata": {},
   "source": [
    "### 1.- BUSCA LA SECUENCIA COMPLEMENTARIA\n",
    "#### Devuelve la secuencia complementaria de la siguiente secuencia de ADN"
   ]
  },
  {
   "cell_type": "code",
   "execution_count": 1,
   "metadata": {},
   "outputs": [],
   "source": [
    "my_dna = \"ACTGATCGATTACGTATAGTATTTGCTATCATACATATATATCGATGCGTTCAT\""
   ]
  },
  {
   "cell_type": "code",
   "execution_count": 6,
   "metadata": {},
   "outputs": [
    {
     "name": "stdout",
     "output_type": "stream",
     "text": [
      "TGACTAGCTAATGCATATCATAAACGATAGTATGTATATATAGCTACGCAAGTA\n"
     ]
    }
   ],
   "source": [
    "complemento = {'A': 'T', 'T': 'A', 'C': 'G', 'G': 'C'}\n",
    "\n",
    "dna_complementario = \"\"\n",
    "for base in my_dna:\n",
    "    dna_complementario += complemento.get(base, base)\n",
    "\n",
    "print(dna_complementario)\n"
   ]
  },
  {
   "cell_type": "markdown",
   "metadata": {},
   "source": [
    "##\n",
    "### 2.- FRAGMENTOS DE RESTRICCION\n",
    "#### Obtén los fragmentos de restricción de EcoRI, que tiene un sitio de corte en G*AATTC (la posición de corte se indica por el *).\n",
    "#### No uses expresiones regulares. \n",
    "#### Pista: utiliza la función find()"
   ]
  },
  {
   "cell_type": "code",
   "execution_count": 7,
   "metadata": {
    "scrolled": true
   },
   "outputs": [],
   "source": [
    "my_dna = \"ACTGATCGATTACGTATAGTATTTGCTATGAATTCCATACATATATATCGATGCGTTCAT\""
   ]
  },
  {
   "cell_type": "code",
   "execution_count": 8,
   "metadata": {},
   "outputs": [
    {
     "name": "stdout",
     "output_type": "stream",
     "text": [
      "Fragmento 1: ACTGATCGATTACGTATAGTATTTGCTATG\n",
      "Fragmento 2: AATTCCATACATATATATCGATGCGTTCAT\n"
     ]
    }
   ],
   "source": [
    "\n",
    "corte_EcoRI = \"GAATTC\"\n",
    "\n",
    "sitio_corte = my_dna.find(corte_EcoRI)\n",
    "\n",
    "if sitio_corte != -1:\n",
    "\n",
    "    fragmento_1 = my_dna[:sitio_corte + 1]  \n",
    "    fragmento_2 = my_dna[sitio_corte + 1:]\n",
    "\n",
    "    print(\"Fragmento 1:\", fragmento_1)\n",
    "    print(\"Fragmento 2:\", fragmento_2)\n",
    "else:\n",
    "    print(\"El sitio de corte de EcoRI no se encontró en la cadena.\")\n"
   ]
  },
  {
   "cell_type": "markdown",
   "metadata": {},
   "source": [
    "##\n",
    "### 3.- ENCUENTRA LOS EXONES\n",
    "#### Encuentra los exones en la siguiente secuencia\n",
    "1. El primer exón va de la primera base a la base 63 (empieza a contar desde 0)\n",
    "2. El segundo exón va de la base 91 (contando desde 0) hasta el final\n",
    "3. Calcula el porcentaje de secuencia codificante\n",
    "4. Imprime en pantalla la secuencia original con los exones en mayúsculas y los intrones en minúsculas"
   ]
  },
  {
   "cell_type": "code",
   "execution_count": 9,
   "metadata": {},
   "outputs": [],
   "source": [
    "genomic_dna = \"ATCGATCGATCGATCGACTGACTAGTCATAGCTATGCATGTAGCTACTCGATCGATCGATCGATCGATCGATCGATCGATCGATCATGCTATCATCGATCGATATCGATGCATCGACTACTAT\""
   ]
  },
  {
   "cell_type": "code",
   "execution_count": 11,
   "metadata": {},
   "outputs": [
    {
     "name": "stdout",
     "output_type": "stream",
     "text": [
      "ATCGATCGATCGATCGACTGACTAGTCATAGCTATGCATGTAGCTACTCGATCGATCGATCGATcgatcgatcgatcgatcgatcatgctaTCATCGATCGATATCGATGCATCGACTACTAT\n",
      "Porcentaje de secuencia codificante: 78.05%\n"
     ]
    }
   ],
   "source": [
    "\n",
    "primer_exon_inicio = 0\n",
    "primer_exon_fin = 63\n",
    "segundo_exon_inicio = 91\n",
    "segundo_exon_fin = len(genomic_dna)\n",
    "\n",
    "\n",
    "exon1 = genomic_dna[primer_exon_inicio:primer_exon_fin + 1]\n",
    "exon2 = genomic_dna[segundo_exon_inicio:segundo_exon_fin]\n",
    "secuencia_codificante = exon1 + exon2\n",
    "\n",
    "\n",
    "longitud_genoma = len(genomic_dna)\n",
    "longitud_secuencia_codificante = len(secuencia_codificante)\n",
    "porcentaje_codificante = (longitud_secuencia_codificante / longitud_genoma) * 100\n",
    "\n",
    "\n",
    "secuencia_formateada = genomic_dna[:primer_exon_inicio].lower() + exon1.upper() + genomic_dna[primer_exon_fin + 1:segundo_exon_inicio].lower() + exon2.upper()\n",
    "print(secuencia_formateada)\n",
    "\n",
    "\n",
    "print(\"Porcentaje de secuencia codificante: {:.2f}%\".format(porcentaje_codificante))\n"
   ]
  },
  {
   "cell_type": "markdown",
   "metadata": {},
   "source": [
    "##\n",
    "### 4.- ESCRIBE UN ARCHIVO FASTA\n",
    "#### Escribe un archivo FASTA que tenga las siguientes secuencias:\n",
    "1. ABC123 \tATCGTACGATCGATCGATCGCTAGACGTATCG\n",
    "2. DEF456 \tactgatcgacgatcgatcgatcacgact\n",
    "3. HIJ789 \tACTGAC-ACTGT--ACTGTA----CATGTG\n",
    "\n",
    "###### *Ten en cuenta que todas las secuencias deben tener solo ATGC caracteres y tienen que estar en mayúsculas\n",
    "###### Recuerda que las secuencias en FASTA empiezan por una línea \">identificador\" y la siguiente línea tiene la secuencia\n",
    "\n",
    "###### >ABC123\n",
    "###### ATCGTACGATCGATCGATCGCTAGACGTATCG\n",
    "###### >DEF456\n",
    "###### ACTGATCGACGATCGATCGATCACGACT\n",
    "###### >HIJ789\n",
    "###### ACTGACACTGTACTGTACATGTG"
   ]
  },
  {
   "cell_type": "code",
   "execution_count": 12,
   "metadata": {},
   "outputs": [
    {
     "name": "stdout",
     "output_type": "stream",
     "text": [
      "ABC123\n",
      "ATCGTACGATCGATCGATCGCTAGACGTATCG\n",
      "DEF456\n",
      "actgatcgacgatcgatcgatcacgact\n",
      "HIJ789\n",
      "ACTGAC-ACTGT--ACTGTA----CATGTG\n"
     ]
    }
   ],
   "source": [
    "d={\n",
    "    'ABC123' :'ATCGTACGATCGATCGATCGCTAGACGTATCG',\n",
    "    'DEF456' : 'actgatcgacgatcgatcgatcacgact',\n",
    "    'HIJ789' : 'ACTGAC-ACTGT--ACTGTA----CATGTG'\n",
    "}\n",
    "\n",
    "for key in d.keys():\n",
    "    print(key)\n",
    "    print(d[key])"
   ]
  },
  {
   "cell_type": "code",
   "execution_count": 15,
   "metadata": {},
   "outputs": [],
   "source": [
    "\n",
    "ABC123 = \"ATCGTACGATCGATCGATCGCTAGACGTATCG\"\n",
    "DEF456 = \"ACTGATCGACGATCGATCGATCACGACT\"\n",
    "HIJ789 = \"ACTGACACTGTACTGTACATGTG\"\n",
    "\n",
    "\n",
    "ABC123 = ABC123.upper()\n",
    "ABC123= ''.join(c for c in ABC123 if c in 'ATGC')\n",
    "\n",
    "DEF456 = DEF456.upper()\n",
    "DEF456 = ''.join(c for c in DEF456 if c in 'ATGC')\n",
    "\n",
    "HIJ789 = HIJ789.upper()\n",
    "HIJ789 = ''.join(c for c in HIJ789 if c in 'ATGC')\n",
    "\n",
    "\n",
    "with open(\"secuencias.fasta\", \"w\") as archivo:\n",
    "    archivo.write(\">ABC123\\n\" + ABC123 + \"\\n\")\n",
    "    archivo.write(\">DEF456\\n\" + DEF456 + \"\\n\")\n",
    "    archivo.write(\">HIJ789\\n\" + HIJ789 + \"\\n\")\n"
   ]
  },
  {
   "cell_type": "markdown",
   "metadata": {},
   "source": [
    "##\n",
    "### 5.- ELIMINA ADAPTADORES\n",
    "#### El archivo input.txt tiene unas secuencias de ADN, una por línea. \n",
    "#### Todas las secuencias empiezan con el mismo adaptador que llega hasta la base 14. Escribe un programa que:\n",
    "1. Remueva el adaptador de la secuencia y escriba la secuencia limpia en un archivo\n",
    "2. Imprima en pantalla la longitud de cada secuencia limpia"
   ]
  },
  {
   "cell_type": "code",
   "execution_count": 16,
   "metadata": {},
   "outputs": [
    {
     "name": "stdout",
     "output_type": "stream",
     "text": [
      "Longitud de la secuencia limpia: 42\n",
      "Longitud de la secuencia limpia: 37\n",
      "Longitud de la secuencia limpia: 48\n",
      "Longitud de la secuencia limpia: 33\n",
      "Longitud de la secuencia limpia: 47\n"
     ]
    }
   ],
   "source": [
    "archivo_entrada = \"input.txt\"\n",
    "archivo_salida = \"output.txt\"\n",
    "\n",
    "with open(archivo_entrada, \"r\") as entrada, open(archivo_salida, \"w\") as salida:\n",
    "    for linea in entrada:\n",
    "        \n",
    "        secuencia_limpia = linea[14:].strip()\n",
    "        \n",
    "       \n",
    "        salida.write(secuencia_limpia + \"\\n\")\n",
    "        \n",
    "        \n",
    "        print(\"Longitud de la secuencia limpia:\", len(secuencia_limpia))\n"
   ]
  },
  {
   "cell_type": "markdown",
   "metadata": {},
   "source": [
    "##\n",
    "### 6.- PORCENTAJE DE AMINO ACIDOS\n",
    "#### Escribe una función que tome dos argumentos: una secuencia de proteínas y un amino ácido. \n",
    "#### Queremos que devuelva el porcentaje del amino ácido en la secuencia de proteínas. \n",
    "#### Una vez que tengas hecha tu función, emplea las siguientes aserciones para comprobar tu código."
   ]
  },
  {
   "cell_type": "code",
   "execution_count": 18,
   "metadata": {
    "scrolled": true
   },
   "outputs": [
    {
     "ename": "NameError",
     "evalue": "name 'my_function' is not defined",
     "output_type": "error",
     "traceback": [
      "\u001b[0;31m---------------------------------------------------------------------------\u001b[0m",
      "\u001b[0;31mNameError\u001b[0m                                 Traceback (most recent call last)",
      "Cell \u001b[0;32mIn[18], line 1\u001b[0m\n\u001b[0;32m----> 1\u001b[0m \u001b[38;5;28;01massert\u001b[39;00m my_function(\u001b[38;5;124m\"\u001b[39m\u001b[38;5;124mMSRSLLLRFLLFLLLLPPLP\u001b[39m\u001b[38;5;124m\"\u001b[39m, \u001b[38;5;124m\"\u001b[39m\u001b[38;5;124mM\u001b[39m\u001b[38;5;124m\"\u001b[39m) \u001b[38;5;241m==\u001b[39m \u001b[38;5;241m5\u001b[39m\n\u001b[1;32m      2\u001b[0m \u001b[38;5;28;01massert\u001b[39;00m my_function(\u001b[38;5;124m\"\u001b[39m\u001b[38;5;124mMSRSLLLRFLLFLLLLPPLP\u001b[39m\u001b[38;5;124m\"\u001b[39m, \u001b[38;5;124m\"\u001b[39m\u001b[38;5;124mr\u001b[39m\u001b[38;5;124m\"\u001b[39m) \u001b[38;5;241m==\u001b[39m \u001b[38;5;241m10\u001b[39m\n\u001b[1;32m      3\u001b[0m \u001b[38;5;28;01massert\u001b[39;00m my_function(\u001b[38;5;124m\"\u001b[39m\u001b[38;5;124mmsrslllrfllfllllpplp\u001b[39m\u001b[38;5;124m\"\u001b[39m, \u001b[38;5;124m\"\u001b[39m\u001b[38;5;124mL\u001b[39m\u001b[38;5;124m\"\u001b[39m) \u001b[38;5;241m==\u001b[39m \u001b[38;5;241m50\u001b[39m\n",
      "\u001b[0;31mNameError\u001b[0m: name 'my_function' is not defined"
     ]
    }
   ],
   "source": [
    "assert my_function(\"MSRSLLLRFLLFLLLLPPLP\", \"M\") == 5\n",
    "assert my_function(\"MSRSLLLRFLLFLLLLPPLP\", \"r\") == 10\n",
    "assert my_function(\"msrslllrfllfllllpplp\", \"L\") == 50\n",
    "assert my_function(\"MSRSLLLRFLLFLLLLPPLP\", \"Y\") == 0"
   ]
  },
  {
   "cell_type": "code",
   "execution_count": 27,
   "metadata": {},
   "outputs": [],
   "source": [
    "def porcentaje_aminoacido_proteina(proteina, aminoacido):\n",
    "    \n",
    "    proteina = proteina.upper()\n",
    "    aminoacido = aminoacido.upper()\n",
    "\n",
    " \n",
    "    numero_aminoacido = proteina.count(aminoacido)\n",
    "\n",
    "   \n",
    "    porcentaje_aminoacido = (numero_aminoacido / len(proteina)) * 100\n",
    "\n",
    "    return porcentaje_aminoacido\n",
    "\n"
   ]
  },
  {
   "cell_type": "code",
   "execution_count": 28,
   "metadata": {},
   "outputs": [
    {
     "name": "stdout",
     "output_type": "stream",
     "text": [
      "PorcentajeM:5.00%\n"
     ]
    }
   ],
   "source": [
    "proteina= \"MSRSLLLRFLLFLLLLPPLP\"\n",
    "aminoacido= \"M\"\n",
    "porcentaje_M= porcentaje_aminoacido_proteina(proteina,aminoacido)\n",
    "print(f\"Porcentaje{aminoacido}:{porcentaje_M:.2f}%\")"
   ]
  },
  {
   "cell_type": "code",
   "execution_count": 30,
   "metadata": {},
   "outputs": [
    {
     "name": "stdout",
     "output_type": "stream",
     "text": [
      "Porcentajer:10.00%\n"
     ]
    }
   ],
   "source": [
    "proteina= \"MSRSLLLRFLLFLLLLPPLP\"\n",
    "aminoacido= \"r\"\n",
    "porcentaje_r= porcentaje_aminoacido_proteina(proteina,aminoacido)\n",
    "print(f\"Porcentaje{aminoacido}:{porcentaje_r:.2f}%\")"
   ]
  },
  {
   "cell_type": "code",
   "execution_count": 31,
   "metadata": {},
   "outputs": [
    {
     "name": "stdout",
     "output_type": "stream",
     "text": [
      "PorcentajeL:50.00%\n"
     ]
    }
   ],
   "source": [
    "proteina= \"msrslllrfllfllllpplp\"\n",
    "aminoacido= \"L\"\n",
    "porcentaje_L= porcentaje_aminoacido_proteina(proteina,aminoacido)\n",
    "print(f\"Porcentaje{aminoacido}:{porcentaje_L:.2f}%\")"
   ]
  },
  {
   "cell_type": "code",
   "execution_count": 32,
   "metadata": {},
   "outputs": [
    {
     "name": "stdout",
     "output_type": "stream",
     "text": [
      "PorcentajeY:0.00%\n"
     ]
    }
   ],
   "source": [
    "proteina= \"MSRSLLLRFLLFLLLLPPLP\"\n",
    "aminoacido= \"Y\"\n",
    "porcentaje_Y= porcentaje_aminoacido_proteina(proteina,aminoacido)\n",
    "print(f\"Porcentaje{aminoacido}:{porcentaje_Y:.2f}%\")"
   ]
  },
  {
   "cell_type": "code",
   "execution_count": null,
   "metadata": {},
   "outputs": [],
   "source": []
  }
 ],
 "metadata": {
  "kernelspec": {
   "display_name": "Python 3 (ipykernel)",
   "language": "python",
   "name": "python3"
  },
  "language_info": {
   "codemirror_mode": {
    "name": "ipython",
    "version": 3
   },
   "file_extension": ".py",
   "mimetype": "text/x-python",
   "name": "python",
   "nbconvert_exporter": "python",
   "pygments_lexer": "ipython3",
   "version": "3.11.4"
  }
 },
 "nbformat": 4,
 "nbformat_minor": 4
}
